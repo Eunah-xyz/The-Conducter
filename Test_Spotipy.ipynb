{
 "cells": [
  {
   "cell_type": "code",
   "execution_count": 24,
   "id": "18e1dd5d-4c34-473c-b397-1c35d4d618f7",
   "metadata": {},
   "outputs": [],
   "source": [
    "import spotipy\n",
    "import json\n",
    "import webbrowser\n",
    "import pandas as pd\n",
    "import spotipy.util as util"
   ]
  },
  {
   "cell_type": "code",
   "execution_count": 25,
   "id": "2e3cf9b7-2191-4bb0-a89a-7265bb6635c2",
   "metadata": {},
   "outputs": [],
   "source": [
    "# open file with keys and set the path to your credentials JSON file\n",
    "credentials = \"gitignore/spotify_keys.json\"\n",
    "with open(credentials, \"r\") as keys:\n",
    "    api_tokens = json.load(keys)"
   ]
  },
  {
   "cell_type": "code",
   "execution_count": 26,
   "id": "3b2855cf-73c7-4d21-8c46-a5fafb0aab41",
   "metadata": {},
   "outputs": [],
   "source": [
    "# reading the keys and assign each to a variable\n",
    "# A redirect URI, or reply URL, is the location where the authorization server sends the user once the app has been \n",
    "# successfully authorized and granted an authorization code or access token.\n",
    "client_id = api_tokens[\"client_id\"]\n",
    "client_secret = api_tokens[\"client_secret\"]\n",
    "redirectURI = api_tokens[\"redirect\"]\n",
    "username = api_tokens[\"username\"]"
   ]
  },
  {
   "cell_type": "code",
   "execution_count": 27,
   "id": "83eb2166-9e0b-463e-bb3a-1cbc2771f910",
   "metadata": {},
   "outputs": [],
   "source": [
    "scope = 'user-read-private user-read-playback-state user-modify-playback-state playlist-modify-public user-read-currently-playing user-modify-playback-state app-remote-control streaming'\n",
    "# streaming - might need this but this needs premium account\n",
    "token = util.prompt_for_user_token(username, scope, client_id=client_id,\n",
    "                           client_secret=client_secret,\n",
    "                           redirect_uri=redirectURI)"
   ]
  },
  {
   "cell_type": "code",
   "execution_count": 28,
   "id": "f783baa2-e911-4b7d-8b25-56152a372951",
   "metadata": {},
   "outputs": [
    {
     "data": {
      "text/plain": [
       "'BQDnn-kKjeUeJmsn8Oef3DHRUbBVPjAYr1VzpA0OZZr4S-Y0xRSo8PxYXuvR28mxMkYcSLQli_KCqcIjF1bxbItE2iUowhNlR_j0Ru1Qkye2tlImdWzZ4w2y__joLRaeQraP34Jy6VecGI5Tm6hHsK4WCEZKtV0wp5CXRWqiJcp9tl9oMNEadsMZctQcsb2G-hNgEZgrTr4DcQD2jeN0rzDKjJT0lGbjEPOOX-7QWOgmiJlEiP-nMmfij3FC9kQ9JYpUixHHsDpYImvUkrmvbYyZQ5Rmmg'"
      ]
     },
     "execution_count": 28,
     "metadata": {},
     "output_type": "execute_result"
    }
   ],
   "source": [
    "token"
   ]
  },
  {
   "cell_type": "code",
   "execution_count": 29,
   "id": "d11c7c8b-f5da-4351-9c88-bb0e9fc1ad29",
   "metadata": {},
   "outputs": [],
   "source": [
    "# Create Spotify Object\n",
    "sp = spotipy.Spotify(auth=token)"
   ]
  },
  {
   "cell_type": "code",
   "execution_count": 47,
   "id": "21749683-f0bd-4a68-bf83-13acba258338",
   "metadata": {},
   "outputs": [
    {
     "name": "stdout",
     "output_type": "stream",
     "text": [
      "{'devices': [{'id': '8a0bf85c94b25d03d3544b32d2bdcb54643cf6a5', 'is_active': True, 'is_private_session': False, 'is_restricted': False, 'name': 'Web Player (Chrome)', 'supports_volume': True, 'type': 'Computer', 'volume_percent': 100}, {'id': '4b81cd299174ddc40fc3f7ebac8adacf93087882', 'is_active': False, 'is_private_session': False, 'is_restricted': False, 'name': 'Mobile Web Player', 'supports_volume': True, 'type': 'Smartphone', 'volume_percent': 100}]}\n"
     ]
    }
   ],
   "source": [
    "# Before running this code, make sure to open spotify on your device browser, in order to get detected\n",
    "# Also make sure to refresh it if you are already there\n",
    "\n",
    "devices = sp.devices()\n",
    "print(devices)\n",
    "deviceID_01 = devices['devices'][0]['id']\n",
    "deviceID_02 = devices['devices'][1]['id']"
   ]
  },
  {
   "cell_type": "code",
   "execution_count": 50,
   "id": "80ea2fd9-69d3-4b89-8837-3e374e511462",
   "metadata": {},
   "outputs": [
    {
     "name": "stdout",
     "output_type": "stream",
     "text": [
      "8a0bf85c94b25d03d3544b32d2bdcb54643cf6a5\n",
      "4b81cd299174ddc40fc3f7ebac8adacf93087882\n"
     ]
    }
   ],
   "source": [
    "print(deviceID_01)\n",
    "print(deviceID_02)"
   ]
  },
  {
   "cell_type": "code",
   "execution_count": 31,
   "id": "f1ad73a3-6756-445e-8369-55498cd22266",
   "metadata": {},
   "outputs": [
    {
     "name": "stdout",
     "output_type": "stream",
     "text": [
      "{'device': {'id': '8a0bf85c94b25d03d3544b32d2bdcb54643cf6a5', 'is_active': True, 'is_private_session': False, 'is_restricted': False, 'name': 'Web Player (Chrome)', 'supports_volume': True, 'type': 'Computer', 'volume_percent': 100}, 'shuffle_state': False, 'repeat_state': 'off', 'timestamp': 1701099543846, 'context': None, 'progress_ms': 92272, 'item': {'album': {'album_type': 'single', 'artists': [{'external_urls': {'spotify': 'https://open.spotify.com/artist/6UbmqUEgjLA6jAcXwbM1Z9'}, 'href': 'https://api.spotify.com/v1/artists/6UbmqUEgjLA6jAcXwbM1Z9', 'id': '6UbmqUEgjLA6jAcXwbM1Z9', 'name': 'BIBI', 'type': 'artist', 'uri': 'spotify:artist:6UbmqUEgjLA6jAcXwbM1Z9'}], 'available_markets': ['AR', 'AU', 'AT', 'BE', 'BO', 'BR', 'BG', 'CA', 'CL', 'CO', 'CR', 'CY', 'CZ', 'DK', 'DO', 'DE', 'EC', 'EE', 'SV', 'FI', 'FR', 'GR', 'GT', 'HN', 'HK', 'HU', 'IS', 'IE', 'IT', 'LV', 'LT', 'LU', 'MY', 'MT', 'MX', 'NL', 'NZ', 'NI', 'NO', 'PA', 'PY', 'PE', 'PH', 'PL', 'PT', 'SG', 'SK', 'ES', 'SE', 'CH', 'TW', 'TR', 'UY', 'US', 'GB', 'AD', 'LI', 'MC', 'ID', 'JP', 'TH', 'VN', 'RO', 'IL', 'ZA', 'SA', 'AE', 'BH', 'QA', 'OM', 'KW', 'EG', 'MA', 'DZ', 'TN', 'LB', 'JO', 'PS', 'IN', 'BY', 'KZ', 'MD', 'UA', 'AL', 'BA', 'HR', 'ME', 'MK', 'RS', 'SI', 'KR', 'BD', 'PK', 'LK', 'GH', 'KE', 'NG', 'TZ', 'UG', 'AG', 'AM', 'BS', 'BB', 'BZ', 'BT', 'BW', 'BF', 'CV', 'CW', 'DM', 'FJ', 'GM', 'GE', 'GD', 'GW', 'GY', 'HT', 'JM', 'KI', 'LS', 'LR', 'MW', 'MV', 'ML', 'MH', 'FM', 'NA', 'NR', 'NE', 'PW', 'PG', 'WS', 'SM', 'ST', 'SN', 'SC', 'SL', 'SB', 'KN', 'LC', 'VC', 'SR', 'TL', 'TO', 'TT', 'TV', 'VU', 'AZ', 'BN', 'BI', 'KH', 'CM', 'TD', 'KM', 'GQ', 'SZ', 'GA', 'GN', 'KG', 'LA', 'MO', 'MR', 'MN', 'NP', 'RW', 'TG', 'UZ', 'ZW', 'BJ', 'MG', 'MU', 'MZ', 'AO', 'CI', 'DJ', 'ZM', 'CD', 'CG', 'IQ', 'LY', 'TJ', 'VE', 'ET', 'XK'], 'external_urls': {'spotify': 'https://open.spotify.com/album/1f9cws6SZ0iKoHrcmn39ZY'}, 'href': 'https://api.spotify.com/v1/albums/1f9cws6SZ0iKoHrcmn39ZY', 'id': '1f9cws6SZ0iKoHrcmn39ZY', 'images': [{'height': 640, 'url': 'https://i.scdn.co/image/ab67616d0000b273ba84f2821a0c0ff527121229', 'width': 640}, {'height': 300, 'url': 'https://i.scdn.co/image/ab67616d00001e02ba84f2821a0c0ff527121229', 'width': 300}, {'height': 64, 'url': 'https://i.scdn.co/image/ab67616d00004851ba84f2821a0c0ff527121229', 'width': 64}], 'name': 'KAZINO', 'release_date': '2020-04-29', 'release_date_precision': 'day', 'total_tracks': 1, 'type': 'album', 'uri': 'spotify:album:1f9cws6SZ0iKoHrcmn39ZY'}, 'artists': [{'external_urls': {'spotify': 'https://open.spotify.com/artist/6UbmqUEgjLA6jAcXwbM1Z9'}, 'href': 'https://api.spotify.com/v1/artists/6UbmqUEgjLA6jAcXwbM1Z9', 'id': '6UbmqUEgjLA6jAcXwbM1Z9', 'name': 'BIBI', 'type': 'artist', 'uri': 'spotify:artist:6UbmqUEgjLA6jAcXwbM1Z9'}], 'available_markets': ['AR', 'AU', 'AT', 'BE', 'BO', 'BR', 'BG', 'CA', 'CL', 'CO', 'CR', 'CY', 'CZ', 'DK', 'DO', 'DE', 'EC', 'EE', 'SV', 'FI', 'FR', 'GR', 'GT', 'HN', 'HK', 'HU', 'IS', 'IE', 'IT', 'LV', 'LT', 'LU', 'MY', 'MT', 'MX', 'NL', 'NZ', 'NI', 'NO', 'PA', 'PY', 'PE', 'PH', 'PL', 'PT', 'SG', 'SK', 'ES', 'SE', 'CH', 'TW', 'TR', 'UY', 'US', 'GB', 'AD', 'LI', 'MC', 'ID', 'JP', 'TH', 'VN', 'RO', 'IL', 'ZA', 'SA', 'AE', 'BH', 'QA', 'OM', 'KW', 'EG', 'MA', 'DZ', 'TN', 'LB', 'JO', 'PS', 'IN', 'BY', 'KZ', 'MD', 'UA', 'AL', 'BA', 'HR', 'ME', 'MK', 'RS', 'SI', 'KR', 'BD', 'PK', 'LK', 'GH', 'KE', 'NG', 'TZ', 'UG', 'AG', 'AM', 'BS', 'BB', 'BZ', 'BT', 'BW', 'BF', 'CV', 'CW', 'DM', 'FJ', 'GM', 'GE', 'GD', 'GW', 'GY', 'HT', 'JM', 'KI', 'LS', 'LR', 'MW', 'MV', 'ML', 'MH', 'FM', 'NA', 'NR', 'NE', 'PW', 'PG', 'WS', 'SM', 'ST', 'SN', 'SC', 'SL', 'SB', 'KN', 'LC', 'VC', 'SR', 'TL', 'TO', 'TT', 'TV', 'VU', 'AZ', 'BN', 'BI', 'KH', 'CM', 'TD', 'KM', 'GQ', 'SZ', 'GA', 'GN', 'KG', 'LA', 'MO', 'MR', 'MN', 'NP', 'RW', 'TG', 'UZ', 'ZW', 'BJ', 'MG', 'MU', 'MZ', 'AO', 'CI', 'DJ', 'ZM', 'CD', 'CG', 'IQ', 'LY', 'TJ', 'VE', 'ET', 'XK'], 'disc_number': 1, 'duration_ms': 185946, 'explicit': False, 'external_ids': {'isrc': 'KRA382001273'}, 'external_urls': {'spotify': 'https://open.spotify.com/track/245onUPHGD1DYuiacxTuW0'}, 'href': 'https://api.spotify.com/v1/tracks/245onUPHGD1DYuiacxTuW0', 'id': '245onUPHGD1DYuiacxTuW0', 'is_local': False, 'name': 'KAZINO', 'popularity': 66, 'preview_url': 'https://p.scdn.co/mp3-preview/a4365d3c5e46f6970f1e4e07aa4a8337669dad78?cid=196d8a24f2fc495bbfa323e9f5dec006', 'track_number': 1, 'type': 'track', 'uri': 'spotify:track:245onUPHGD1DYuiacxTuW0'}, 'currently_playing_type': 'track', 'actions': {'disallows': {'resuming': True, 'toggling_repeat_context': True, 'toggling_repeat_track': True, 'toggling_shuffle': True}}, 'is_playing': True}\n"
     ]
    }
   ],
   "source": [
    "song_play = sp.current_playback() #get playback status\n",
    "print(song_play)"
   ]
  },
  {
   "cell_type": "code",
   "execution_count": 11,
   "id": "961e1067-059b-4645-abf6-14bcf0b7d663",
   "metadata": {},
   "outputs": [
    {
     "name": "stdout",
     "output_type": "stream",
     "text": [
      "True\n"
     ]
    }
   ],
   "source": [
    "if_playing = song_play[\"is_playing\"] #get playback status\n",
    "print(if_playing)"
   ]
  },
  {
   "cell_type": "code",
   "execution_count": 12,
   "id": "ab6b20e7-a47e-4565-9b9d-6d26d928e728",
   "metadata": {},
   "outputs": [],
   "source": [
    "# Resume playback\n",
    "sp.start_playback()"
   ]
  },
  {
   "cell_type": "code",
   "execution_count": 13,
   "id": "ce44231b-9642-486b-ba02-b327d573386c",
   "metadata": {},
   "outputs": [],
   "source": [
    "# stop playback\n",
    "sp.pause_playback()"
   ]
  },
  {
   "cell_type": "code",
   "execution_count": 36,
   "id": "97a609fa-2091-47f3-8a7a-045256785be4",
   "metadata": {},
   "outputs": [],
   "source": [
    "#switching devices \n",
    "\n",
    "# go through devices and if it is active, pause it\n",
    "# if it is not, start playing it\n",
    "\n",
    "# for device in devices['devices']:\n",
    "#         if device['is_active']:\n",
    "#             sp.pause_playback(device['id'])\n",
    "#         else:\n",
    "#             sp.start_playback(device['id'])"
   ]
  },
  {
   "cell_type": "code",
   "execution_count": 52,
   "id": "6ca3f9ba-bb71-4009-8676-b18c608e0c1c",
   "metadata": {},
   "outputs": [],
   "source": [
    "sp.transfer_playback(deviceID_01)"
   ]
  },
  {
   "cell_type": "code",
   "execution_count": 53,
   "id": "400ff3d2-987d-4d16-b7c7-7c2b0c5ad7f7",
   "metadata": {},
   "outputs": [],
   "source": [
    "sp.transfer_playback(deviceID_02)"
   ]
  },
  {
   "cell_type": "code",
   "execution_count": null,
   "id": "c07e8d1f-3639-4fbc-853b-a33230d6e96f",
   "metadata": {},
   "outputs": [],
   "source": []
  },
  {
   "cell_type": "code",
   "execution_count": null,
   "id": "4c1fb1c0-7741-4b13-814b-3ac9db79c11f",
   "metadata": {},
   "outputs": [],
   "source": []
  }
 ],
 "metadata": {
  "kernelspec": {
   "display_name": "Python 3 (ipykernel)",
   "language": "python",
   "name": "python3"
  },
  "language_info": {
   "codemirror_mode": {
    "name": "ipython",
    "version": 3
   },
   "file_extension": ".py",
   "mimetype": "text/x-python",
   "name": "python",
   "nbconvert_exporter": "python",
   "pygments_lexer": "ipython3",
   "version": "3.10.11"
  }
 },
 "nbformat": 4,
 "nbformat_minor": 5
}
