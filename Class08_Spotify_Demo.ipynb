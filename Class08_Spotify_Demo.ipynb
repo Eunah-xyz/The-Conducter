{
 "cells": [
  {
   "cell_type": "code",
   "execution_count": 2,
   "id": "dfb1fd3c-beab-438b-927d-2bd478b734f9",
   "metadata": {},
   "outputs": [
    {
     "ename": "ModuleNotFoundError",
     "evalue": "No module named 'nltk'",
     "output_type": "error",
     "traceback": [
      "\u001b[1;31m---------------------------------------------------------------------------\u001b[0m",
      "\u001b[1;31mModuleNotFoundError\u001b[0m                       Traceback (most recent call last)",
      "Cell \u001b[1;32mIn[2], line 5\u001b[0m\n\u001b[0;32m      3\u001b[0m \u001b[38;5;28;01mimport\u001b[39;00m \u001b[38;5;21;01mrandom\u001b[39;00m\n\u001b[0;32m      4\u001b[0m \u001b[38;5;28;01mimport\u001b[39;00m \u001b[38;5;21;01mrequests\u001b[39;00m\n\u001b[1;32m----> 5\u001b[0m \u001b[38;5;28;01mimport\u001b[39;00m \u001b[38;5;21;01mnltk\u001b[39;00m\n\u001b[0;32m      6\u001b[0m \u001b[38;5;28;01mimport\u001b[39;00m \u001b[38;5;21;01mwebbrowser\u001b[39;00m\n",
      "\u001b[1;31mModuleNotFoundError\u001b[0m: No module named 'nltk'"
     ]
    }
   ],
   "source": [
    "import spotipy\n",
    "import urllib.request\n",
    "import random\n",
    "import requests\n",
    "import nltk\n",
    "import webbrowser"
   ]
  },
  {
   "cell_type": "code",
   "execution_count": null,
   "id": "e850521b-239b-4db9-8592-75ea678eb588",
   "metadata": {},
   "outputs": [],
   "source": [
    "articletitle = [x['Key'] for x in list['key']]"
   ]
  },
  {
   "cell_type": "code",
   "execution_count": null,
   "id": "a9c3c69a-7b20-4e3b-aa5b-33e751e38e02",
   "metadata": {},
   "outputs": [],
   "source": [
    "[tag for word, tag in tagged]\n",
    "\n",
    "# extend instead of append adds everythin on tothe one list"
   ]
  }
 ],
 "metadata": {
  "kernelspec": {
   "display_name": "Python 3 (ipykernel)",
   "language": "python",
   "name": "python3"
  },
  "language_info": {
   "codemirror_mode": {
    "name": "ipython",
    "version": 3
   },
   "file_extension": ".py",
   "mimetype": "text/x-python",
   "name": "python",
   "nbconvert_exporter": "python",
   "pygments_lexer": "ipython3",
   "version": "3.12.0"
  }
 },
 "nbformat": 4,
 "nbformat_minor": 5
}
