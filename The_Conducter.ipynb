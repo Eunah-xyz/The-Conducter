{
 "cells": [
  {
   "cell_type": "code",
   "execution_count": null,
   "id": "18e1dd5d-4c34-473c-b397-1c35d4d618f7",
   "metadata": {},
   "outputs": [],
   "source": [
    "# imports for conputer vision API (OpenCV, Mediapipe)\n",
    "import cv2\n",
    "import mediapipe as mp\n",
    "import time\n",
    "\n",
    "# imports for Spotipy API\n",
    "import spotipy\n",
    "import json\n",
    "import webbrowser\n",
    "import pandas as pd\n",
    "import spotipy.util as util"
   ]
  },
  {
   "cell_type": "code",
   "execution_count": null,
   "id": "701c5095-55c3-427a-aec1-49f9677b3637",
   "metadata": {},
   "outputs": [],
   "source": [
    "from mediapipe.tasks import python\n",
    "from mediapipe.tasks.python import vision"
   ]
  },
  {
   "cell_type": "code",
   "execution_count": null,
   "id": "6baea455-6a74-43f1-baf6-9fa1b9e4081f",
   "metadata": {},
   "outputs": [],
   "source": [
    "import os\n",
    "os.sys.path\n",
    "# checking if I am using the right version of Python\n",
    "# if it's 310 - it's good"
   ]
  },
  {
   "cell_type": "code",
   "execution_count": null,
   "id": "2e3cf9b7-2191-4bb0-a89a-7265bb6635c2",
   "metadata": {},
   "outputs": [],
   "source": [
    "# open file with keys and set the path to your credentials JSON file\n",
    "credentials = \"gitignore/spotify_keys.json\"\n",
    "with open(credentials, \"r\") as keys:\n",
    "    api_tokens = json.load(keys)"
   ]
  },
  {
   "cell_type": "code",
   "execution_count": null,
   "id": "3b2855cf-73c7-4d21-8c46-a5fafb0aab41",
   "metadata": {},
   "outputs": [],
   "source": [
    "# reading the keys and assign each to a variable\n",
    "# A redirect URI, or reply URL, is the location where the authorization server sends the user once the app has been \n",
    "# successfully authorized and granted an authorization code or access token.\n",
    "client_id = api_tokens[\"client_id\"]\n",
    "client_secret = api_tokens[\"client_secret\"]\n",
    "redirectURI = api_tokens[\"redirect\"]\n",
    "username = api_tokens[\"username\"]"
   ]
  },
  {
   "cell_type": "code",
   "execution_count": null,
   "id": "83eb2166-9e0b-463e-bb3a-1cbc2771f910",
   "metadata": {},
   "outputs": [],
   "source": [
    "scope = 'user-read-private user-read-playback-state user-modify-playback-state playlist-modify-public user-read-currently-playing user-modify-playback-state app-remote-control streaming'\n",
    "# streaming - might need this but this needs premium account\n",
    "token = util.prompt_for_user_token(username, scope, client_id=client_id,\n",
    "                           client_secret=client_secret,\n",
    "                           redirect_uri=redirectURI)\n",
    "# this creates a cache file in the folder that saves the token\n",
    "# you also have to .gitignore this"
   ]
  },
  {
   "cell_type": "code",
   "execution_count": null,
   "id": "f783baa2-e911-4b7d-8b25-56152a372951",
   "metadata": {},
   "outputs": [],
   "source": [
    "token\n",
    "# make sure to clear the output on this cell"
   ]
  },
  {
   "cell_type": "code",
   "execution_count": null,
   "id": "d11c7c8b-f5da-4351-9c88-bb0e9fc1ad29",
   "metadata": {},
   "outputs": [],
   "source": [
    "# Create Spotify Object\n",
    "sp = spotipy.Spotify(auth=token)"
   ]
  },
  {
   "cell_type": "code",
   "execution_count": null,
   "id": "046b6e1b-c132-4e22-86ac-ebaf6c47c9d3",
   "metadata": {},
   "outputs": [],
   "source": [
    "webbrowser.open('https://open.spotify.com/')\n",
    "# Also open your spotify on your mobile webbrowser too\n",
    "# please open the computer browser first and then the mobile"
   ]
  },
  {
   "cell_type": "code",
   "execution_count": null,
   "id": "21749683-f0bd-4a68-bf83-13acba258338",
   "metadata": {},
   "outputs": [],
   "source": [
    "# Before running this code, make sure to open spotify on your device browser, in order to get detected\n",
    "# Also make sure to refresh it if you are already there\n",
    "\n",
    "# Make sure to play a song in your browser to refresh\n",
    "\n",
    "devices = sp.devices()\n",
    "print(devices)"
   ]
  },
  {
   "cell_type": "code",
   "execution_count": null,
   "id": "80ea2fd9-69d3-4b89-8837-3e374e511462",
   "metadata": {},
   "outputs": [],
   "source": [
    "# Assigning device id into var\n",
    "# Sometimes there are random unrecognized devices, so I get the most recent 2 devices.\n",
    "deviceID_Mobile = devices['devices'][-1]['id']\n",
    "deviceID_Web = devices['devices'][-2]['id']\n",
    "\n",
    "print(deviceID_Mobile)\n",
    "print(deviceID_Web)"
   ]
  },
  {
   "cell_type": "code",
   "execution_count": null,
   "id": "644875e1-0ff2-4619-9335-f238a6bce3e4",
   "metadata": {},
   "outputs": [],
   "source": [
    "devices['devices'][-1]['is_active'] = True"
   ]
  },
  {
   "cell_type": "code",
   "execution_count": null,
   "id": "b3b2d3da-909b-4573-ad55-76982e66f9d0",
   "metadata": {},
   "outputs": [],
   "source": [
    "devices['devices'][-1]['is_active']"
   ]
  },
  {
   "cell_type": "code",
   "execution_count": null,
   "id": "ce44231b-9642-486b-ba02-b327d573386c",
   "metadata": {},
   "outputs": [],
   "source": [
    "###############################################################################################\n",
    "# Before you run this line, make sure that you play a music in spotify that you want to conduct\n",
    "\n",
    "# stop playback\n",
    "sp.pause_playback()"
   ]
  },
  {
   "cell_type": "code",
   "execution_count": null,
   "id": "ab6b20e7-a47e-4565-9b9d-6d26d928e728",
   "metadata": {},
   "outputs": [],
   "source": [
    "# Resume playback\n",
    "sp.start_playback()"
   ]
  },
  {
   "cell_type": "code",
   "execution_count": null,
   "id": "f1ad73a3-6756-445e-8369-55498cd22266",
   "metadata": {},
   "outputs": [],
   "source": [
    "song_play = sp.current_playback() #get playback status\n",
    "print(song_play)"
   ]
  },
  {
   "cell_type": "code",
   "execution_count": null,
   "id": "961e1067-059b-4645-abf6-14bcf0b7d663",
   "metadata": {},
   "outputs": [],
   "source": [
    "if_playing = song_play[\"is_playing\"] #get playback status\n",
    "print(if_playing)"
   ]
  },
  {
   "cell_type": "code",
   "execution_count": null,
   "id": "6ca3f9ba-bb71-4009-8676-b18c608e0c1c",
   "metadata": {},
   "outputs": [],
   "source": [
    "sp.transfer_playback(deviceID_Mobile)"
   ]
  },
  {
   "cell_type": "code",
   "execution_count": null,
   "id": "400ff3d2-987d-4d16-b7c7-7c2b0c5ad7f7",
   "metadata": {},
   "outputs": [],
   "source": [
    "sp.transfer_playback(deviceID_Web)"
   ]
  },
  {
   "cell_type": "code",
   "execution_count": null,
   "id": "c07e8d1f-3639-4fbc-853b-a33230d6e96f",
   "metadata": {},
   "outputs": [],
   "source": [
    "# this takes sometime\n",
    "\n",
    "mp_hands = mp.solutions.hands\n",
    "hands = mp_hands.Hands()\n",
    "\n",
    "cap = cv2.VideoCapture(0)\n",
    "\n",
    "# cap = cv2.flip(src, 0)\n",
    "## flipping the video ##\n",
    "\n",
    "spotify_url = 'https://open.spotify.com/'\n",
    "\n",
    "on_left = False\n",
    "last_on_left_time = time.time()"
   ]
  },
  {
   "cell_type": "code",
   "execution_count": null,
   "id": "4c1fb1c0-7741-4b13-814b-3ac9db79c11f",
   "metadata": {},
   "outputs": [],
   "source": [
    "#Chcking the video size\n",
    "video_width  = cap.get(cv2.CAP_PROP_FRAME_WIDTH)   # float `width`\n",
    "video_height = cap.get(cv2.CAP_PROP_FRAME_HEIGHT)  # float `height`\n",
    "print(video_width, video_height)"
   ]
  },
  {
   "cell_type": "code",
   "execution_count": null,
   "id": "2e93306c-7dc6-4ad0-9fe4-5b81cf02bd1d",
   "metadata": {},
   "outputs": [],
   "source": [
    "while True:\n",
    "    ret, frame = cap.read()\n",
    "    # ret is a boolean variable that returns true if the frame is available.\n",
    "    # frame is an image array vector captured based on the default frames per second defined explicitly or implicitly\n",
    "\n",
    "    if not ret: \n",
    "        break\n",
    "        # if there is no frame avaiable, escape from the loop. if it says continue, continue with the loop\n",
    "\n",
    "    frame_rgb = cv2.cvtColor(frame, cv2.COLOR_BGR2RGB) \n",
    "    # changing the default BRG colour to RGB\n",
    "\n",
    "    results = hands.process(frame_rgb)\n",
    "\n",
    "    if results.multi_hand_landmarks:\n",
    "        for hand_landmarks in results.multi_hand_landmarks:\n",
    "\n",
    "            index_tip = hand_landmarks.landmark[mp_hands.HandLandmark.INDEX_FINGER_TIP]\n",
    "            # tracking index finger\n",
    "\n",
    "            #######################################################\n",
    "            # GOAL1 -> map the x value to adjust the device playing\n",
    "            #######################################################\n",
    "\n",
    "            if index_tip.x < 0.5 and on_left == False: \n",
    "            # see if the x position of the index finger is on the left side of the camera\n",
    "            # x position value is 0-1\n",
    "            # the second part checks if your hand is already on the left side\n",
    "                \n",
    "                sp.transfer_playback(deviceID_Mobile)\n",
    "                on_left = True\n",
    "                # change on_left value to be True\n",
    "            \n",
    "            elif index_tip.x >= 0.5 and on_left == True:\n",
    "                sp.transfer_playback(deviceID_Web)\n",
    "                on_left = False\n",
    "                sp.volume(int(index_tip.y* 100))\n",
    "\n",
    "            ###############################################\n",
    "            # GOAL2 -> map the y value to adjust the volume\n",
    "            # But only do this when the device is web\n",
    "            # Cuz mobile it does not work\n",
    "            ###############################################\n",
    "\n",
    "            if index_tip.y < 0.1 and on_left == False:\n",
    "                sp.volume(100)\n",
    "            \n",
    "            elif index_tip.y >= 0.1 and index_tip.y < 0.2 and on_left == False:\n",
    "                sp.volume(90)\n",
    "\n",
    "            elif index_tip.y >= 0.2 and index_tip.y < 0.3 and on_left == False:\n",
    "                sp.volume(80)\n",
    "\n",
    "            elif index_tip.y >= 0.3 and index_tip.y < 0.4 and on_left == False:\n",
    "                sp.volume(70)\n",
    "\n",
    "            elif index_tip.y >= 0.4 and index_tip.y < 0.5 and on_left == False:\n",
    "                sp.volume(60)\n",
    "\n",
    "            elif index_tip.y >= 0.5 and index_tip.y < 0.6 and on_left == False:\n",
    "                sp.volume(50)\n",
    "\n",
    "            elif index_tip.y >= 0.6 and index_tip.y < 0.7 and on_left == False:\n",
    "                sp.volume(40)\n",
    "\n",
    "            elif index_tip.y >= 0.7 and index_tip.y < 0.8 and on_left == False:\n",
    "                sp.volume(30)\n",
    "\n",
    "            elif index_tip.y >= 0.8 and index_tip.y < 0.9 and on_left == False:\n",
    "                sp.volume(20)\n",
    "                            \n",
    "            elif index_tip.y >= 0.9 and index_tip.y < 1 and on_left == False:\n",
    "                sp.volume(10)\n",
    "\n",
    "            # volume must be and int\n",
    "            \n",
    "\n",
    "            # drawing a circle on each landmark(tracking points)\n",
    "            for landmark in hand_landmarks.landmark:\n",
    "                x = int(landmark.x * frame.shape[1])\n",
    "                y = int(landmark.y * frame.shape[0])\n",
    "                cv2.circle(frame, (x, y), 5, (0, 255, 0), -1)\n",
    "                # cv2.circle(image, center_coordinates, radius, color, thickness)\n",
    "\n",
    "\n",
    "    # cv2.putText(frame, f'Touches: {touch_count}/3', (10, 30), cv2.FONT_HERSHEY_SIMPLEX, 1, (0, 255, 0), 2)\n",
    "\n",
    "    cv2.imshow(\"Frame\", frame)\n",
    "\n",
    "    if cv2.waitKey(1) & 0xFF == ord('q'):\n",
    "        break\n",
    "\n",
    "cap.release()\n",
    "cv2.destroyAllWindows()"
   ]
  },
  {
   "cell_type": "code",
   "execution_count": null,
   "id": "55013b24-9928-4789-bd5c-2944bf509646",
   "metadata": {},
   "outputs": [],
   "source": [
    "sp.volume(0, device_id=deviceID_01)"
   ]
  },
  {
   "cell_type": "code",
   "execution_count": null,
   "id": "86ee84f8-a49e-4ef3-9599-59bcbcfe9585",
   "metadata": {},
   "outputs": [],
   "source": []
  }
 ],
 "metadata": {
  "kernelspec": {
   "display_name": "Python 3 (ipykernel)",
   "language": "python",
   "name": "python3"
  },
  "language_info": {
   "codemirror_mode": {
    "name": "ipython",
    "version": 3
   },
   "file_extension": ".py",
   "mimetype": "text/x-python",
   "name": "python",
   "nbconvert_exporter": "python",
   "pygments_lexer": "ipython3",
   "version": "3.10.11"
  }
 },
 "nbformat": 4,
 "nbformat_minor": 5
}
