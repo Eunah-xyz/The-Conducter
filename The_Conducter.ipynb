{
 "cells": [
  {
   "cell_type": "code",
   "execution_count": 1,
   "id": "18e1dd5d-4c34-473c-b397-1c35d4d618f7",
   "metadata": {},
   "outputs": [],
   "source": [
    "# imports for conputer vision API (OpenCV, Mediapipe)\n",
    "import cv2\n",
    "import mediapipe as mp\n",
    "import time\n",
    "\n",
    "# imports for Spotipy API\n",
    "import spotipy\n",
    "import json\n",
    "import webbrowser\n",
    "import pandas as pd\n",
    "import spotipy.util as util"
   ]
  },
  {
   "cell_type": "code",
   "execution_count": 2,
   "id": "701c5095-55c3-427a-aec1-49f9677b3637",
   "metadata": {},
   "outputs": [],
   "source": [
    "from mediapipe.tasks import python\n",
    "from mediapipe.tasks.python import vision"
   ]
  },
  {
   "cell_type": "code",
   "execution_count": 3,
   "id": "6baea455-6a74-43f1-baf6-9fa1b9e4081f",
   "metadata": {},
   "outputs": [
    {
     "data": {
      "text/plain": [
       "['C:\\\\Users\\\\Eunah Lee\\\\Classes\\\\Intro To Creative Code\\\\TheConducter',\n",
       " 'C:\\\\Users\\\\Eunah Lee\\\\AppData\\\\Local\\\\Programs\\\\Python\\\\Python310\\\\python310.zip',\n",
       " 'C:\\\\Users\\\\Eunah Lee\\\\AppData\\\\Local\\\\Programs\\\\Python\\\\Python310\\\\DLLs',\n",
       " 'C:\\\\Users\\\\Eunah Lee\\\\AppData\\\\Local\\\\Programs\\\\Python\\\\Python310\\\\lib',\n",
       " 'C:\\\\Users\\\\Eunah Lee\\\\AppData\\\\Local\\\\Programs\\\\Python\\\\Python310',\n",
       " '',\n",
       " 'C:\\\\Users\\\\Eunah Lee\\\\AppData\\\\Local\\\\Programs\\\\Python\\\\Python310\\\\lib\\\\site-packages',\n",
       " 'C:\\\\Users\\\\Eunah Lee\\\\AppData\\\\Local\\\\Programs\\\\Python\\\\Python310\\\\lib\\\\site-packages\\\\win32',\n",
       " 'C:\\\\Users\\\\Eunah Lee\\\\AppData\\\\Local\\\\Programs\\\\Python\\\\Python310\\\\lib\\\\site-packages\\\\win32\\\\lib',\n",
       " 'C:\\\\Users\\\\Eunah Lee\\\\AppData\\\\Local\\\\Programs\\\\Python\\\\Python310\\\\lib\\\\site-packages\\\\Pythonwin']"
      ]
     },
     "execution_count": 3,
     "metadata": {},
     "output_type": "execute_result"
    }
   ],
   "source": [
    "import os\n",
    "os.sys.path\n",
    "# checking if I am using the right version of Python\n",
    "# if it's 310 - it's good"
   ]
  },
  {
   "cell_type": "code",
   "execution_count": 4,
   "id": "2e3cf9b7-2191-4bb0-a89a-7265bb6635c2",
   "metadata": {},
   "outputs": [],
   "source": [
    "# open file with keys and set the path to your credentials JSON file\n",
    "credentials = \"gitignore/spotify_keys.json\"\n",
    "with open(credentials, \"r\") as keys:\n",
    "    api_tokens = json.load(keys)"
   ]
  },
  {
   "cell_type": "code",
   "execution_count": 5,
   "id": "3b2855cf-73c7-4d21-8c46-a5fafb0aab41",
   "metadata": {},
   "outputs": [],
   "source": [
    "# reading the keys and assign each to a variable\n",
    "# A redirect URI, or reply URL, is the location where the authorization server sends the user once the app has been \n",
    "# successfully authorized and granted an authorization code or access token.\n",
    "client_id = api_tokens[\"client_id\"]\n",
    "client_secret = api_tokens[\"client_secret\"]\n",
    "redirectURI = api_tokens[\"redirect\"]\n",
    "username = api_tokens[\"username\"]"
   ]
  },
  {
   "cell_type": "code",
   "execution_count": 6,
   "id": "83eb2166-9e0b-463e-bb3a-1cbc2771f910",
   "metadata": {},
   "outputs": [],
   "source": [
    "scope = 'user-read-private user-read-playback-state user-modify-playback-state playlist-modify-public user-read-currently-playing user-modify-playback-state app-remote-control streaming'\n",
    "# streaming - might need this but this needs premium account\n",
    "token = util.prompt_for_user_token(username, scope, client_id=client_id,\n",
    "                           client_secret=client_secret,\n",
    "                           redirect_uri=redirectURI)\n",
    "# this creates a cache file in the folder that saves the token\n",
    "# you also have to .gitignore this"
   ]
  },
  {
   "cell_type": "code",
   "execution_count": 7,
   "id": "f783baa2-e911-4b7d-8b25-56152a372951",
   "metadata": {},
   "outputs": [
    {
     "data": {
      "text/plain": [
       "'BQC5PsvtR7-uPWC2fVCka47G5LHGPBzJaWsQPrGZwnBOH5OCxZK3Z5C5NlG9WlaIbWo_vhvZHPCZdFGTWlUTWHIpixl9y0hmJWP_tvFXFuVzJEluq8kjLhR24IPApZ6KXaZcA1tt0glokHMtjs-YqFosZ-UecWfbV6FD78Ipm03TzAhbLoLsr2gqsRCOD78N-FFyjln0PUQAmCHdAYSOckn29OtSzFJtgLspaEV5PgsC0HJmskyTqZ_hSVcBhsdB'"
      ]
     },
     "execution_count": 7,
     "metadata": {},
     "output_type": "execute_result"
    }
   ],
   "source": [
    "token\n",
    "# make sure to clear the output on this cell"
   ]
  },
  {
   "cell_type": "code",
   "execution_count": 8,
   "id": "d11c7c8b-f5da-4351-9c88-bb0e9fc1ad29",
   "metadata": {},
   "outputs": [],
   "source": [
    "# Create Spotify Object\n",
    "sp = spotipy.Spotify(auth=token)"
   ]
  },
  {
   "cell_type": "code",
   "execution_count": 9,
   "id": "eb9b7c49-0322-494a-9aa7-005b72dbbde6",
   "metadata": {},
   "outputs": [
    {
     "data": {
      "text/plain": [
       "False"
      ]
     },
     "execution_count": 9,
     "metadata": {},
     "output_type": "execute_result"
    }
   ],
   "source": [
    "sp.devices() == 0"
   ]
  },
  {
   "cell_type": "code",
   "execution_count": 10,
   "id": "21749683-f0bd-4a68-bf83-13acba258338",
   "metadata": {},
   "outputs": [
    {
     "name": "stdout",
     "output_type": "stream",
     "text": [
      "{'devices': [{'id': '9107cb864677026d874cb5a6b1cca15286142742', 'is_active': False, 'is_private_session': False, 'is_restricted': False, 'name': 'Mobile Web Player', 'supports_volume': True, 'type': 'Smartphone', 'volume_percent': 10}, {'id': 'f560121bd5782fb50a8aa147fd6573bcf04182e5', 'is_active': True, 'is_private_session': False, 'is_restricted': False, 'name': 'Web Player (Chrome)', 'supports_volume': True, 'type': 'Computer', 'volume_percent': 10}]}\n"
     ]
    }
   ],
   "source": [
    "# Before running this code, make sure to open spotify on your device browser, in order to get detected\n",
    "# Also make sure to refresh it if you are already there\n",
    "\n",
    "# Make sure to play a song in your browser to refresh\n",
    "\n",
    "devices = sp.devices()\n",
    "print(devices)"
   ]
  },
  {
   "cell_type": "code",
   "execution_count": 11,
   "id": "80ea2fd9-69d3-4b89-8837-3e374e511462",
   "metadata": {},
   "outputs": [
    {
     "name": "stdout",
     "output_type": "stream",
     "text": [
      "f560121bd5782fb50a8aa147fd6573bcf04182e5\n",
      "9107cb864677026d874cb5a6b1cca15286142742\n"
     ]
    }
   ],
   "source": [
    "# Assigning device id into var\n",
    "deviceID_01 = devices['devices'][-1]['id']\n",
    "deviceID_02 = devices['devices'][-2]['id']\n",
    "\n",
    "print(deviceID_01)\n",
    "print(deviceID_02)"
   ]
  },
  {
   "cell_type": "code",
   "execution_count": 12,
   "id": "f1ad73a3-6756-445e-8369-55498cd22266",
   "metadata": {},
   "outputs": [
    {
     "name": "stdout",
     "output_type": "stream",
     "text": [
      "{'device': {'id': 'f560121bd5782fb50a8aa147fd6573bcf04182e5', 'is_active': True, 'is_private_session': False, 'is_restricted': False, 'name': 'Web Player (Chrome)', 'supports_volume': True, 'type': 'Computer', 'volume_percent': 10}, 'shuffle_state': False, 'repeat_state': 'off', 'timestamp': 1701195545140, 'context': {'external_urls': {'spotify': 'https://open.spotify.com/album/23fwKUYyu1kvRnDR2imBnq'}, 'href': 'https://api.spotify.com/v1/albums/23fwKUYyu1kvRnDR2imBnq', 'type': 'album', 'uri': 'spotify:album:23fwKUYyu1kvRnDR2imBnq'}, 'progress_ms': 31261, 'item': {'album': {'album_type': 'single', 'artists': [{'external_urls': {'spotify': 'https://open.spotify.com/artist/30AghIfoMJrMo1YqoUkEMM'}, 'href': 'https://api.spotify.com/v1/artists/30AghIfoMJrMo1YqoUkEMM', 'id': '30AghIfoMJrMo1YqoUkEMM', 'name': 'Huh', 'type': 'artist', 'uri': 'spotify:artist:30AghIfoMJrMo1YqoUkEMM'}], 'available_markets': ['AR', 'AU', 'AT', 'BE', 'BO', 'BR', 'BG', 'CA', 'CL', 'CO', 'CR', 'CY', 'CZ', 'DK', 'DO', 'DE', 'EC', 'EE', 'SV', 'FI', 'FR', 'GR', 'GT', 'HN', 'HK', 'HU', 'IS', 'IE', 'IT', 'LV', 'LT', 'LU', 'MY', 'MT', 'MX', 'NL', 'NZ', 'NI', 'NO', 'PA', 'PY', 'PE', 'PH', 'PL', 'PT', 'SG', 'SK', 'ES', 'SE', 'CH', 'TW', 'TR', 'UY', 'US', 'GB', 'AD', 'LI', 'MC', 'ID', 'JP', 'TH', 'VN', 'RO', 'IL', 'ZA', 'SA', 'AE', 'BH', 'QA', 'OM', 'KW', 'EG', 'MA', 'DZ', 'TN', 'LB', 'JO', 'PS', 'IN', 'BY', 'KZ', 'MD', 'UA', 'AL', 'BA', 'HR', 'ME', 'MK', 'RS', 'SI', 'KR', 'BD', 'PK', 'LK', 'GH', 'KE', 'NG', 'TZ', 'UG', 'AG', 'AM', 'BS', 'BB', 'BZ', 'BT', 'BW', 'BF', 'CV', 'CW', 'DM', 'FJ', 'GM', 'GE', 'GD', 'GW', 'GY', 'HT', 'JM', 'KI', 'LS', 'LR', 'MW', 'MV', 'ML', 'MH', 'FM', 'NA', 'NR', 'NE', 'PW', 'PG', 'WS', 'SM', 'ST', 'SN', 'SC', 'SL', 'SB', 'KN', 'LC', 'VC', 'SR', 'TL', 'TO', 'TT', 'TV', 'VU', 'AZ', 'BN', 'BI', 'KH', 'CM', 'TD', 'KM', 'GQ', 'SZ', 'GA', 'GN', 'KG', 'LA', 'MO', 'MR', 'MN', 'NP', 'RW', 'TG', 'UZ', 'ZW', 'BJ', 'MG', 'MU', 'MZ', 'AO', 'CI', 'DJ', 'ZM', 'CD', 'CG', 'IQ', 'LY', 'TJ', 'VE', 'ET', 'XK'], 'external_urls': {'spotify': 'https://open.spotify.com/album/4sllKWDRbXLTzfKvQNeby3'}, 'href': 'https://api.spotify.com/v1/albums/4sllKWDRbXLTzfKvQNeby3', 'id': '4sllKWDRbXLTzfKvQNeby3', 'images': [{'height': 640, 'url': 'https://i.scdn.co/image/ab67616d0000b273250c55ac107b5ea40480a376', 'width': 640}, {'height': 300, 'url': 'https://i.scdn.co/image/ab67616d00001e02250c55ac107b5ea40480a376', 'width': 300}, {'height': 64, 'url': 'https://i.scdn.co/image/ab67616d00004851250c55ac107b5ea40480a376', 'width': 64}], 'name': 'uh-uh', 'release_date': '2021-02-22', 'release_date_precision': 'day', 'total_tracks': 2, 'type': 'album', 'uri': 'spotify:album:4sllKWDRbXLTzfKvQNeby3'}, 'artists': [{'external_urls': {'spotify': 'https://open.spotify.com/artist/30AghIfoMJrMo1YqoUkEMM'}, 'href': 'https://api.spotify.com/v1/artists/30AghIfoMJrMo1YqoUkEMM', 'id': '30AghIfoMJrMo1YqoUkEMM', 'name': 'Huh', 'type': 'artist', 'uri': 'spotify:artist:30AghIfoMJrMo1YqoUkEMM'}], 'available_markets': ['AR', 'AU', 'AT', 'BE', 'BO', 'BR', 'BG', 'CA', 'CL', 'CO', 'CR', 'CY', 'CZ', 'DK', 'DO', 'DE', 'EC', 'EE', 'SV', 'FI', 'FR', 'GR', 'GT', 'HN', 'HK', 'HU', 'IS', 'IE', 'IT', 'LV', 'LT', 'LU', 'MY', 'MT', 'MX', 'NL', 'NZ', 'NI', 'NO', 'PA', 'PY', 'PE', 'PH', 'PL', 'PT', 'SG', 'SK', 'ES', 'SE', 'CH', 'TW', 'TR', 'UY', 'US', 'GB', 'AD', 'LI', 'MC', 'ID', 'JP', 'TH', 'VN', 'RO', 'IL', 'ZA', 'SA', 'AE', 'BH', 'QA', 'OM', 'KW', 'EG', 'MA', 'DZ', 'TN', 'LB', 'JO', 'PS', 'IN', 'BY', 'KZ', 'MD', 'UA', 'AL', 'BA', 'HR', 'ME', 'MK', 'RS', 'SI', 'KR', 'BD', 'PK', 'LK', 'GH', 'KE', 'NG', 'TZ', 'UG', 'AG', 'AM', 'BS', 'BB', 'BZ', 'BT', 'BW', 'BF', 'CV', 'CW', 'DM', 'FJ', 'GM', 'GE', 'GD', 'GW', 'GY', 'HT', 'JM', 'KI', 'LS', 'LR', 'MW', 'MV', 'ML', 'MH', 'FM', 'NA', 'NR', 'NE', 'PW', 'PG', 'WS', 'SM', 'ST', 'SN', 'SC', 'SL', 'SB', 'KN', 'LC', 'VC', 'SR', 'TL', 'TO', 'TT', 'TV', 'VU', 'AZ', 'BN', 'BI', 'KH', 'CM', 'TD', 'KM', 'GQ', 'SZ', 'GA', 'GN', 'KG', 'LA', 'MO', 'MR', 'MN', 'NP', 'RW', 'TG', 'UZ', 'ZW', 'BJ', 'MG', 'MU', 'MZ', 'AO', 'CI', 'DJ', 'ZM', 'CD', 'CG', 'IQ', 'LY', 'TJ', 'VE', 'ET', 'XK'], 'disc_number': 1, 'duration_ms': 116186, 'explicit': False, 'external_ids': {'isrc': 'KRB142100003'}, 'external_urls': {'spotify': 'https://open.spotify.com/track/18tYy1GuZBZDUxUjWO5WC0'}, 'href': 'https://api.spotify.com/v1/tracks/18tYy1GuZBZDUxUjWO5WC0', 'id': '18tYy1GuZBZDUxUjWO5WC0', 'is_local': False, 'name': 'Lit! Huh!', 'popularity': 43, 'preview_url': 'https://p.scdn.co/mp3-preview/3f810451e54a20fd9bf142f8a8cff6c3bb4e5c60?cid=196d8a24f2fc495bbfa323e9f5dec006', 'track_number': 2, 'type': 'track', 'uri': 'spotify:track:18tYy1GuZBZDUxUjWO5WC0'}, 'currently_playing_type': 'track', 'actions': {'disallows': {'resuming': True, 'toggling_repeat_context': True, 'toggling_repeat_track': True, 'toggling_shuffle': True}}, 'is_playing': True}\n"
     ]
    }
   ],
   "source": [
    "song_play = sp.current_playback() #get playback status\n",
    "print(song_play)"
   ]
  },
  {
   "cell_type": "code",
   "execution_count": 13,
   "id": "961e1067-059b-4645-abf6-14bcf0b7d663",
   "metadata": {},
   "outputs": [
    {
     "name": "stdout",
     "output_type": "stream",
     "text": [
      "True\n"
     ]
    }
   ],
   "source": [
    "if_playing = song_play[\"is_playing\"] #get playback status\n",
    "print(if_playing)"
   ]
  },
  {
   "cell_type": "code",
   "execution_count": 14,
   "id": "ab6b20e7-a47e-4565-9b9d-6d26d928e728",
   "metadata": {},
   "outputs": [],
   "source": [
    "# Resume playback\n",
    "sp.start_playback()"
   ]
  },
  {
   "cell_type": "code",
   "execution_count": 15,
   "id": "ce44231b-9642-486b-ba02-b327d573386c",
   "metadata": {},
   "outputs": [],
   "source": [
    "# stop playback\n",
    "sp.pause_playback()"
   ]
  },
  {
   "cell_type": "code",
   "execution_count": 16,
   "id": "6ca3f9ba-bb71-4009-8676-b18c608e0c1c",
   "metadata": {},
   "outputs": [],
   "source": [
    "sp.transfer_playback(deviceID_01)"
   ]
  },
  {
   "cell_type": "code",
   "execution_count": 17,
   "id": "400ff3d2-987d-4d16-b7c7-7c2b0c5ad7f7",
   "metadata": {},
   "outputs": [],
   "source": [
    "sp.transfer_playback(deviceID_02)"
   ]
  },
  {
   "cell_type": "code",
   "execution_count": 18,
   "id": "c07e8d1f-3639-4fbc-853b-a33230d6e96f",
   "metadata": {},
   "outputs": [],
   "source": [
    "mp_hands = mp.solutions.hands\n",
    "hands = mp_hands.Hands()\n",
    "\n",
    "cap = cv2.VideoCapture(0)\n",
    "\n",
    "# cap = cv2.flip(src, 0)\n",
    "# # flipping the video\n",
    "\n",
    "spotify_url = 'https://open.spotify.com/'\n",
    "\n",
    "on_left = False\n",
    "last_on_left_time = time.time()"
   ]
  },
  {
   "cell_type": "code",
   "execution_count": 19,
   "id": "4c1fb1c0-7741-4b13-814b-3ac9db79c11f",
   "metadata": {},
   "outputs": [
    {
     "name": "stdout",
     "output_type": "stream",
     "text": [
      "640.0 480.0\n"
     ]
    }
   ],
   "source": [
    "#Chcking the video size\n",
    "video_width  = cap.get(cv2.CAP_PROP_FRAME_WIDTH)   # float `width`\n",
    "video_height = cap.get(cv2.CAP_PROP_FRAME_HEIGHT)  # float `height`\n",
    "print(video_width, video_height)"
   ]
  },
  {
   "cell_type": "code",
   "execution_count": null,
   "id": "2e93306c-7dc6-4ad0-9fe4-5b81cf02bd1d",
   "metadata": {},
   "outputs": [],
   "source": [
    "while True:\n",
    "    ret, frame = cap.read()\n",
    "    # ret is a boolean variable that returns true if the frame is available.\n",
    "    # frame is an image array vector captured based on the default frames per second defined explicitly or implicitly\n",
    "\n",
    "    if not ret: \n",
    "        break\n",
    "        # if there is no frame avaiable, escape from the loop. if it says continue, continue with the loop\n",
    "\n",
    "    frame_rgb = cv2.cvtColor(frame, cv2.COLOR_BGR2RGB) \n",
    "    # changing the default BRG colour to RGB\n",
    "\n",
    "    results = hands.process(frame_rgb)\n",
    "\n",
    "    if results.multi_hand_landmarks:\n",
    "        for hand_landmarks in results.multi_hand_landmarks:\n",
    "\n",
    "            index_tip = hand_landmarks.landmark[mp_hands.HandLandmark.INDEX_FINGER_TIP]\n",
    "            # tracking index finger\n",
    "\n",
    "            if index_tip.x < 0.5 and on_left == False: \n",
    "            # see if the x position of the index finger is on the left side of the camera\n",
    "            # x position value is 0-1\n",
    "            # the second part checks if your hand is already on the left side\n",
    "                \n",
    "                sp.transfer_playback(deviceID_01)\n",
    "                on_left = True\n",
    "                # change on_left value to be True\n",
    "            \n",
    "            elif index_tip.x >= 0.5 and on_left == True:\n",
    "                sp.transfer_playback(deviceID_02)\n",
    "                on_left = False\n",
    "                sp.volume(int(index_tip.y* 100))\n",
    "\n",
    "            if index_tip.y > 0.1:\n",
    "            sp.volume(int(index_tip.y * 100))\n",
    "            # volume must be and int\n",
    "            \n",
    "\n",
    "            # drawing a circle on each landmark(tracking points)\n",
    "            for landmark in hand_landmarks.landmark:\n",
    "                x = int(landmark.x * frame.shape[1])\n",
    "                y = int(landmark.y * frame.shape[0])\n",
    "                cv2.circle(frame, (x, y), 5, (0, 255, 0), -1)\n",
    "                # cv2.circle(image, center_coordinates, radius, color, thickness)\n",
    "\n",
    "    # cv2.putText(frame, f'Touches: {touch_count}/3', (10, 30), cv2.FONT_HERSHEY_SIMPLEX, 1, (0, 255, 0), 2)\n",
    "\n",
    "    cv2.imshow(\"Frame\", frame)\n",
    "\n",
    "    if cv2.waitKey(1) & 0xFF == ord('q'):\n",
    "        break\n",
    "\n",
    "cap.release()\n",
    "cv2.destroyAllWindows()"
   ]
  },
  {
   "cell_type": "code",
   "execution_count": 55,
   "id": "ae21e90e-1d4b-4105-b3fd-bdc4ccbcae1c",
   "metadata": {},
   "outputs": [],
   "source": [
    "sp.volume(100)"
   ]
  },
  {
   "cell_type": "code",
   "execution_count": 22,
   "id": "9813c423-1338-4c30-9243-a78097e0cc27",
   "metadata": {},
   "outputs": [
    {
     "name": "stderr",
     "output_type": "stream",
     "text": [
      "HTTP Error for PUT to https://api.spotify.com/v1/me/player/volume?volume_percent=30 with Params: {} returned 403 due to Player command failed: Restriction violated\n"
     ]
    },
    {
     "ename": "SpotifyException",
     "evalue": "http status: 403, code:-1 - https://api.spotify.com/v1/me/player/volume?volume_percent=30:\n Player command failed: Restriction violated, reason: UNKNOWN",
     "output_type": "error",
     "traceback": [
      "\u001b[1;31m---------------------------------------------------------------------------\u001b[0m",
      "\u001b[1;31mHTTPError\u001b[0m                                 Traceback (most recent call last)",
      "File \u001b[1;32m~\\AppData\\Local\\Programs\\Python\\Python310\\lib\\site-packages\\spotipy\\client.py:271\u001b[0m, in \u001b[0;36mSpotify._internal_call\u001b[1;34m(self, method, url, payload, params)\u001b[0m\n\u001b[0;32m    266\u001b[0m response \u001b[38;5;241m=\u001b[39m \u001b[38;5;28mself\u001b[39m\u001b[38;5;241m.\u001b[39m_session\u001b[38;5;241m.\u001b[39mrequest(\n\u001b[0;32m    267\u001b[0m     method, url, headers\u001b[38;5;241m=\u001b[39mheaders, proxies\u001b[38;5;241m=\u001b[39m\u001b[38;5;28mself\u001b[39m\u001b[38;5;241m.\u001b[39mproxies,\n\u001b[0;32m    268\u001b[0m     timeout\u001b[38;5;241m=\u001b[39m\u001b[38;5;28mself\u001b[39m\u001b[38;5;241m.\u001b[39mrequests_timeout, \u001b[38;5;241m*\u001b[39m\u001b[38;5;241m*\u001b[39margs\n\u001b[0;32m    269\u001b[0m )\n\u001b[1;32m--> 271\u001b[0m \u001b[43mresponse\u001b[49m\u001b[38;5;241;43m.\u001b[39;49m\u001b[43mraise_for_status\u001b[49m\u001b[43m(\u001b[49m\u001b[43m)\u001b[49m\n\u001b[0;32m    272\u001b[0m results \u001b[38;5;241m=\u001b[39m response\u001b[38;5;241m.\u001b[39mjson()\n",
      "File \u001b[1;32m~\\AppData\\Local\\Programs\\Python\\Python310\\lib\\site-packages\\requests\\models.py:1021\u001b[0m, in \u001b[0;36mResponse.raise_for_status\u001b[1;34m(self)\u001b[0m\n\u001b[0;32m   1020\u001b[0m \u001b[38;5;28;01mif\u001b[39;00m http_error_msg:\n\u001b[1;32m-> 1021\u001b[0m     \u001b[38;5;28;01mraise\u001b[39;00m HTTPError(http_error_msg, response\u001b[38;5;241m=\u001b[39m\u001b[38;5;28mself\u001b[39m)\n",
      "\u001b[1;31mHTTPError\u001b[0m: 403 Client Error: Forbidden for url: https://api.spotify.com/v1/me/player/volume?volume_percent=30",
      "\nDuring handling of the above exception, another exception occurred:\n",
      "\u001b[1;31mSpotifyException\u001b[0m                          Traceback (most recent call last)",
      "Cell \u001b[1;32mIn[22], line 46\u001b[0m\n\u001b[0;32m     43\u001b[0m     sp\u001b[38;5;241m.\u001b[39mvolume(\u001b[38;5;241m40\u001b[39m)\n\u001b[0;32m     45\u001b[0m \u001b[38;5;28;01melif\u001b[39;00m index_tip\u001b[38;5;241m.\u001b[39my \u001b[38;5;241m>\u001b[39m\u001b[38;5;241m=\u001b[39m \u001b[38;5;241m0.7\u001b[39m \u001b[38;5;129;01mand\u001b[39;00m index_tip\u001b[38;5;241m.\u001b[39my \u001b[38;5;241m<\u001b[39m \u001b[38;5;241m0.8\u001b[39m:\n\u001b[1;32m---> 46\u001b[0m     \u001b[43msp\u001b[49m\u001b[38;5;241;43m.\u001b[39;49m\u001b[43mvolume\u001b[49m\u001b[43m(\u001b[49m\u001b[38;5;241;43m30\u001b[39;49m\u001b[43m)\u001b[49m\n\u001b[0;32m     48\u001b[0m \u001b[38;5;28;01melif\u001b[39;00m index_tip\u001b[38;5;241m.\u001b[39my \u001b[38;5;241m>\u001b[39m\u001b[38;5;241m=\u001b[39m \u001b[38;5;241m0.8\u001b[39m \u001b[38;5;129;01mand\u001b[39;00m index_tip\u001b[38;5;241m.\u001b[39my \u001b[38;5;241m<\u001b[39m \u001b[38;5;241m0.9\u001b[39m:\n\u001b[0;32m     49\u001b[0m     sp\u001b[38;5;241m.\u001b[39mvolume(\u001b[38;5;241m20\u001b[39m)\n",
      "File \u001b[1;32m~\\AppData\\Local\\Programs\\Python\\Python310\\lib\\site-packages\\spotipy\\client.py:1896\u001b[0m, in \u001b[0;36mSpotify.volume\u001b[1;34m(self, volume_percent, device_id)\u001b[0m\n\u001b[0;32m   1894\u001b[0m     logger\u001b[38;5;241m.\u001b[39mwarning(\u001b[38;5;124m\"\u001b[39m\u001b[38;5;124mVolume must be between 0 and 100, inclusive\u001b[39m\u001b[38;5;124m\"\u001b[39m)\n\u001b[0;32m   1895\u001b[0m     \u001b[38;5;28;01mreturn\u001b[39;00m\n\u001b[1;32m-> 1896\u001b[0m \u001b[38;5;28;43mself\u001b[39;49m\u001b[38;5;241;43m.\u001b[39;49m\u001b[43m_put\u001b[49m\u001b[43m(\u001b[49m\n\u001b[0;32m   1897\u001b[0m \u001b[43m    \u001b[49m\u001b[38;5;28;43mself\u001b[39;49m\u001b[38;5;241;43m.\u001b[39;49m\u001b[43m_append_device_id\u001b[49m\u001b[43m(\u001b[49m\n\u001b[0;32m   1898\u001b[0m \u001b[43m        \u001b[49m\u001b[38;5;124;43m\"\u001b[39;49m\u001b[38;5;124;43mme/player/volume?volume_percent=\u001b[39;49m\u001b[38;5;132;43;01m%s\u001b[39;49;00m\u001b[38;5;124;43m\"\u001b[39;49m\u001b[43m \u001b[49m\u001b[38;5;241;43m%\u001b[39;49m\u001b[43m \u001b[49m\u001b[43mvolume_percent\u001b[49m\u001b[43m,\u001b[49m\n\u001b[0;32m   1899\u001b[0m \u001b[43m        \u001b[49m\u001b[43mdevice_id\u001b[49m\u001b[43m,\u001b[49m\n\u001b[0;32m   1900\u001b[0m \u001b[43m    \u001b[49m\u001b[43m)\u001b[49m\n\u001b[0;32m   1901\u001b[0m \u001b[43m\u001b[49m\u001b[43m)\u001b[49m\n",
      "File \u001b[1;32m~\\AppData\\Local\\Programs\\Python\\Python310\\lib\\site-packages\\spotipy\\client.py:338\u001b[0m, in \u001b[0;36mSpotify._put\u001b[1;34m(self, url, args, payload, **kwargs)\u001b[0m\n\u001b[0;32m    336\u001b[0m \u001b[38;5;28;01mif\u001b[39;00m args:\n\u001b[0;32m    337\u001b[0m     kwargs\u001b[38;5;241m.\u001b[39mupdate(args)\n\u001b[1;32m--> 338\u001b[0m \u001b[38;5;28;01mreturn\u001b[39;00m \u001b[38;5;28;43mself\u001b[39;49m\u001b[38;5;241;43m.\u001b[39;49m\u001b[43m_internal_call\u001b[49m\u001b[43m(\u001b[49m\u001b[38;5;124;43m\"\u001b[39;49m\u001b[38;5;124;43mPUT\u001b[39;49m\u001b[38;5;124;43m\"\u001b[39;49m\u001b[43m,\u001b[49m\u001b[43m \u001b[49m\u001b[43murl\u001b[49m\u001b[43m,\u001b[49m\u001b[43m \u001b[49m\u001b[43mpayload\u001b[49m\u001b[43m,\u001b[49m\u001b[43m \u001b[49m\u001b[43mkwargs\u001b[49m\u001b[43m)\u001b[49m\n",
      "File \u001b[1;32m~\\AppData\\Local\\Programs\\Python\\Python310\\lib\\site-packages\\spotipy\\client.py:293\u001b[0m, in \u001b[0;36mSpotify._internal_call\u001b[1;34m(self, method, url, payload, params)\u001b[0m\n\u001b[0;32m    286\u001b[0m         reason \u001b[38;5;241m=\u001b[39m \u001b[38;5;28;01mNone\u001b[39;00m\n\u001b[0;32m    288\u001b[0m     logger\u001b[38;5;241m.\u001b[39merror(\n\u001b[0;32m    289\u001b[0m         \u001b[38;5;124m'\u001b[39m\u001b[38;5;124mHTTP Error for \u001b[39m\u001b[38;5;132;01m%s\u001b[39;00m\u001b[38;5;124m to \u001b[39m\u001b[38;5;132;01m%s\u001b[39;00m\u001b[38;5;124m with Params: \u001b[39m\u001b[38;5;132;01m%s\u001b[39;00m\u001b[38;5;124m returned \u001b[39m\u001b[38;5;132;01m%s\u001b[39;00m\u001b[38;5;124m due to \u001b[39m\u001b[38;5;132;01m%s\u001b[39;00m\u001b[38;5;124m'\u001b[39m,\n\u001b[0;32m    290\u001b[0m         method, url, args\u001b[38;5;241m.\u001b[39mget(\u001b[38;5;124m\"\u001b[39m\u001b[38;5;124mparams\u001b[39m\u001b[38;5;124m\"\u001b[39m), response\u001b[38;5;241m.\u001b[39mstatus_code, msg\n\u001b[0;32m    291\u001b[0m     )\n\u001b[1;32m--> 293\u001b[0m     \u001b[38;5;28;01mraise\u001b[39;00m SpotifyException(\n\u001b[0;32m    294\u001b[0m         response\u001b[38;5;241m.\u001b[39mstatus_code,\n\u001b[0;32m    295\u001b[0m         \u001b[38;5;241m-\u001b[39m\u001b[38;5;241m1\u001b[39m,\n\u001b[0;32m    296\u001b[0m         \u001b[38;5;124m\"\u001b[39m\u001b[38;5;132;01m%s\u001b[39;00m\u001b[38;5;124m:\u001b[39m\u001b[38;5;130;01m\\n\u001b[39;00m\u001b[38;5;124m \u001b[39m\u001b[38;5;132;01m%s\u001b[39;00m\u001b[38;5;124m\"\u001b[39m \u001b[38;5;241m%\u001b[39m (response\u001b[38;5;241m.\u001b[39murl, msg),\n\u001b[0;32m    297\u001b[0m         reason\u001b[38;5;241m=\u001b[39mreason,\n\u001b[0;32m    298\u001b[0m         headers\u001b[38;5;241m=\u001b[39mresponse\u001b[38;5;241m.\u001b[39mheaders,\n\u001b[0;32m    299\u001b[0m     )\n\u001b[0;32m    300\u001b[0m \u001b[38;5;28;01mexcept\u001b[39;00m requests\u001b[38;5;241m.\u001b[39mexceptions\u001b[38;5;241m.\u001b[39mRetryError \u001b[38;5;28;01mas\u001b[39;00m retry_error:\n\u001b[0;32m    301\u001b[0m     request \u001b[38;5;241m=\u001b[39m retry_error\u001b[38;5;241m.\u001b[39mrequest\n",
      "\u001b[1;31mSpotifyException\u001b[0m: http status: 403, code:-1 - https://api.spotify.com/v1/me/player/volume?volume_percent=30:\n Player command failed: Restriction violated, reason: UNKNOWN"
     ]
    }
   ],
   "source": [
    "###############################################\n",
    "# GOAL2 -> map the y value to adjust the volume\n",
    "###############################################\n",
    "\n",
    "while True:\n",
    "    ret, frame = cap.read()\n",
    "    # ret is a boolean variable that returns true if the frame is available.\n",
    "    # frame is an image array vector captured based on the default frames per second defined explicitly or implicitly\n",
    "\n",
    "    if not ret: \n",
    "        break\n",
    "        # if there is no frame avaiable, escape from the loop. if it says continue, continue with the loop\n",
    "\n",
    "    frame_rgb = cv2.cvtColor(frame, cv2.COLOR_BGR2RGB) \n",
    "    # changing the default BRG colour to RGB\n",
    "\n",
    "    results = hands.process(frame_rgb)\n",
    "\n",
    "    if results.multi_hand_landmarks:\n",
    "        for hand_landmarks in results.multi_hand_landmarks:\n",
    "\n",
    "            index_tip = hand_landmarks.landmark[mp_hands.HandLandmark.INDEX_FINGER_TIP]\n",
    "            # tracking index finger\n",
    "\n",
    "            if index_tip.y < 0.1:\n",
    "                sp.volume(100)\n",
    "            \n",
    "            elif index_tip.y >= 0.1 and index_tip.y < 0.2:\n",
    "                sp.volume(90)\n",
    "\n",
    "            elif index_tip.y >= 0.2 and index_tip.y < 0.3:\n",
    "                sp.volume(80)\n",
    "\n",
    "            elif index_tip.y >= 0.3 and index_tip.y < 0.4:\n",
    "                sp.volume(70)\n",
    "\n",
    "            elif index_tip.y >= 0.4 and index_tip.y < 0.5:\n",
    "                sp.volume(60)\n",
    "\n",
    "            elif index_tip.y >= 0.5 and index_tip.y < 0.6:\n",
    "                sp.volume(50)\n",
    "\n",
    "            elif index_tip.y >= 0.6 and index_tip.y < 0.7:\n",
    "                sp.volume(40)\n",
    "\n",
    "            elif index_tip.y >= 0.7 and index_tip.y < 0.8:\n",
    "                sp.volume(30)\n",
    "\n",
    "            elif index_tip.y >= 0.8 and index_tip.y < 0.9:\n",
    "                sp.volume(20)\n",
    "                            \n",
    "            elif index_tip.y >= 0.9 and index_tip.y < 1:\n",
    "                sp.volume(10)\n",
    "\n",
    "            # volume must be and int\n",
    "            \n",
    "            # drawing a circle on each landmark(tracking points)\n",
    "            for landmark in hand_landmarks.landmark:\n",
    "                x = int(landmark.x * frame.shape[1])\n",
    "                y = int(landmark.y * frame.shape[0])\n",
    "                cv2.circle(frame, (x, y), 5, (0, 255, 0), -1)\n",
    "                # cv2.circle(image, center_coordinates, radius, color, thickness)\n",
    "\n",
    "    # cv2.putText(frame, f'Touches: {touch_count}/3', (10, 30), cv2.FONT_HERSHEY_SIMPLEX, 1, (0, 255, 0), 2)\n",
    "\n",
    "    cv2.imshow(\"Frame\", frame)\n",
    "\n",
    "    if cv2.waitKey(1) & 0xFF == ord('q'):\n",
    "        break\n",
    "\n",
    "cap.release()\n",
    "cv2.destroyAllWindows()"
   ]
  },
  {
   "cell_type": "code",
   "execution_count": null,
   "id": "8e38361c-955b-4b60-a4a9-9865e2acc75e",
   "metadata": {},
   "outputs": [],
   "source": []
  }
 ],
 "metadata": {
  "kernelspec": {
   "display_name": "Python 3 (ipykernel)",
   "language": "python",
   "name": "python3"
  },
  "language_info": {
   "codemirror_mode": {
    "name": "ipython",
    "version": 3
   },
   "file_extension": ".py",
   "mimetype": "text/x-python",
   "name": "python",
   "nbconvert_exporter": "python",
   "pygments_lexer": "ipython3",
   "version": "3.10.11"
  }
 },
 "nbformat": 4,
 "nbformat_minor": 5
}
