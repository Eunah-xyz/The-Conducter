{
 "cells": [
  {
   "cell_type": "code",
   "execution_count": 1,
   "id": "b72f00d4-ec70-47fc-a2b3-3a0948d02773",
   "metadata": {},
   "outputs": [],
   "source": [
    "import cv2\n",
    "import mediapipe as mp\n",
    "import time\n",
    "import webbrowser"
   ]
  },
  {
   "cell_type": "code",
   "execution_count": 2,
   "id": "1cf73dba-5e7e-4e37-b69f-e38e21849a5e",
   "metadata": {},
   "outputs": [],
   "source": [
    "from mediapipe.tasks import python\n",
    "from mediapipe.tasks.python import vision"
   ]
  },
  {
   "cell_type": "code",
   "execution_count": 3,
   "id": "0f40d0d1-272a-4e52-a88a-1f0bbbd20e35",
   "metadata": {},
   "outputs": [
    {
     "data": {
      "text/plain": [
       "['C:\\\\Users\\\\Eunah Lee\\\\Classes\\\\Intro To Creative Code\\\\OpenCV',\n",
       " 'C:\\\\Users\\\\Eunah Lee\\\\AppData\\\\Local\\\\Programs\\\\Python\\\\Python310\\\\python310.zip',\n",
       " 'C:\\\\Users\\\\Eunah Lee\\\\AppData\\\\Local\\\\Programs\\\\Python\\\\Python310\\\\DLLs',\n",
       " 'C:\\\\Users\\\\Eunah Lee\\\\AppData\\\\Local\\\\Programs\\\\Python\\\\Python310\\\\lib',\n",
       " 'C:\\\\Users\\\\Eunah Lee\\\\AppData\\\\Local\\\\Programs\\\\Python\\\\Python310',\n",
       " 'C:\\\\Users\\\\Eunah Lee\\\\Classes\\\\Intro To Creative Code\\\\OpenCV\\\\venv',\n",
       " '',\n",
       " 'C:\\\\Users\\\\Eunah Lee\\\\Classes\\\\Intro To Creative Code\\\\OpenCV\\\\venv\\\\lib\\\\site-packages',\n",
       " 'C:\\\\Users\\\\Eunah Lee\\\\Classes\\\\Intro To Creative Code\\\\OpenCV\\\\venv\\\\lib\\\\site-packages\\\\win32',\n",
       " 'C:\\\\Users\\\\Eunah Lee\\\\Classes\\\\Intro To Creative Code\\\\OpenCV\\\\venv\\\\lib\\\\site-packages\\\\win32\\\\lib',\n",
       " 'C:\\\\Users\\\\Eunah Lee\\\\Classes\\\\Intro To Creative Code\\\\OpenCV\\\\venv\\\\lib\\\\site-packages\\\\Pythonwin']"
      ]
     },
     "execution_count": 3,
     "metadata": {},
     "output_type": "execute_result"
    }
   ],
   "source": [
    "import os\n",
    "os.sys.path\n",
    "# checking if I am using the right version of Python"
   ]
  },
  {
   "cell_type": "code",
   "execution_count": 4,
   "id": "02b76a49-fe93-4b16-ad26-ac12d64f86de",
   "metadata": {},
   "outputs": [],
   "source": [
    "mp_hands = mp.solutions.hands\n",
    "hands = mp_hands.Hands()\n",
    "\n",
    "cap = cv2.VideoCapture(0)\n",
    "\n",
    "# cap = cv2.flip(src, 0)\n",
    "# # flipping the video\n",
    "\n",
    "spotify_url = 'https://open.spotify.com/'\n",
    "\n",
    "# finger_distance = 0\n",
    "# touch_count = 0\n",
    "# is_touching = False\n",
    "# last_touch_time = time.time()\n",
    "# touch_interval = 2  \n",
    "on_left = False\n",
    "last_on_left_time = time.time()"
   ]
  },
  {
   "cell_type": "code",
   "execution_count": 5,
   "id": "5fcde60e-a5a5-48ac-a87a-060f25c81d96",
   "metadata": {},
   "outputs": [
    {
     "name": "stdout",
     "output_type": "stream",
     "text": [
      "640.0 480.0\n"
     ]
    }
   ],
   "source": [
    "video_width  = cap.get(cv2.CAP_PROP_FRAME_WIDTH)   # float `width`\n",
    "video_height = cap.get(cv2.CAP_PROP_FRAME_HEIGHT)  # float `height`\n",
    "print(video_width, video_height)"
   ]
  },
  {
   "cell_type": "code",
   "execution_count": null,
   "id": "30ef77eb-585e-4b04-8271-d402e19c45f0",
   "metadata": {},
   "outputs": [],
   "source": [
    "while True:\n",
    "    ret, frame = cap.read()\n",
    "    # ret is a boolean variable that returns true if the frame is available.\n",
    "    # frame is an image array vector captured based on the default frames per second defined explicitly or implicitly\n",
    "\n",
    "    if not ret: \n",
    "        break\n",
    "        # if there is no frame avaiable, escape from the loop. if it says continue, continue with the loop\n",
    "\n",
    "    frame_rgb = cv2.cvtColor(frame, cv2.COLOR_BGR2RGB) \n",
    "    #changing the default BRG colour to RGB\n",
    "\n",
    "    results = hands.process(frame_rgb)\n",
    "\n",
    "    if results.multi_hand_landmarks:\n",
    "        for hand_landmarks in results.multi_hand_landmarks:\n",
    "\n",
    "            index_tip = hand_landmarks.landmark[mp_hands.HandLandmark.INDEX_FINGER_TIP]\n",
    "            # tracking index finger\n",
    "\n",
    "            if index_tip.x < 0.5:  # video_width/2: - not working as x position value is 0-1\n",
    "                webbrowser.open(spotify_url)\n",
    "                \n",
    "                ##\n",
    "                # HOW DO I MAKE IT HAPPEN JUST ONCE? EVERYTIME IT IS IN THE AREA\n",
    "                # MAYBE SQUARE = SOMETHIN, INSIDE SQUARE = True\n",
    "                ###\n",
    "            \n",
    "            else:\n",
    "                on_left = False\n",
    "\n",
    "            # drawing a circle on each landmark(tracking points)\n",
    "            for landmark in hand_landmarks.landmark:\n",
    "                x = int(landmark.x * frame.shape[1])\n",
    "                y = int(landmark.y * frame.shape[0])\n",
    "                cv2.circle(frame, (x, y), 5, (0, 255, 0), -1)\n",
    "                # cv2.circle(image, center_coordinates, radius, color, thickness)\n",
    "\n",
    "    # cv2.putText(frame, f'Touches: {touch_count}/3', (10, 30), cv2.FONT_HERSHEY_SIMPLEX, 1, (0, 255, 0), 2)\n",
    "\n",
    "    cv2.imshow(\"Frame\", frame)\n",
    "\n",
    "    if cv2.waitKey(1) & 0xFF == ord('q'):\n",
    "        break\n",
    "\n",
    "cap.release()\n",
    "cv2.destroyAllWindows()"
   ]
  },
  {
   "cell_type": "code",
   "execution_count": null,
   "id": "3e6fcffc-c4af-4312-96d6-8848b7b0a40a",
   "metadata": {},
   "outputs": [],
   "source": []
  }
 ],
 "metadata": {
  "kernelspec": {
   "display_name": "Python 3 (ipykernel)",
   "language": "python",
   "name": "python3"
  },
  "language_info": {
   "codemirror_mode": {
    "name": "ipython",
    "version": 3
   },
   "file_extension": ".py",
   "mimetype": "text/x-python",
   "name": "python",
   "nbconvert_exporter": "python",
   "pygments_lexer": "ipython3",
   "version": "3.10.11"
  }
 },
 "nbformat": 4,
 "nbformat_minor": 5
}
